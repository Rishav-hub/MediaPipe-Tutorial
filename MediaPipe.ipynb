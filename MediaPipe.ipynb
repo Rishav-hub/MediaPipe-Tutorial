{
 "cells": [
  {
   "cell_type": "markdown",
   "metadata": {},
   "source": [
    "## What is MediaPipe ?\n",
    "![image](https://google.github.io/mediapipe/images/mediapipe_small.png)\n",
    "\n",
    "MediaPipe offers ready-to-use yet customizable Python solutions as a prebuilt Python package.\n",
    "\n",
    "Refer - [here](https://google.github.io/mediapipe/)"
   ]
  },
  {
   "cell_type": "markdown",
   "metadata": {},
   "source": [
    "## Step 1: Install Libraries and Import Dependencies"
   ]
  },
  {
   "cell_type": "code",
   "execution_count": null,
   "metadata": {},
   "outputs": [],
   "source": [
    "!pip install mediapipe opencv-python"
   ]
  },
  {
   "cell_type": "code",
   "execution_count": 1,
   "metadata": {},
   "outputs": [],
   "source": [
    "import mediapipe as mp # Import mediapipe\n",
    "import cv2 # Import opencv\n",
    "import csv\n",
    "import os\n",
    "import pandas as pd\n",
    "from sklearn.model_selection import train_test_split\n",
    "import numpy as np\n",
    "import pickle"
   ]
  },
  {
   "cell_type": "markdown",
   "metadata": {},
   "source": [
    "## Step 2: Define Utils"
   ]
  },
  {
   "cell_type": "code",
   "execution_count": 2,
   "metadata": {},
   "outputs": [],
   "source": [
    "mp_drawing = mp.solutions.drawing_utils # For Drawing the cordinates\n",
    "mp_hands = mp.solutions.hands # Solution specific for hand coordinate"
   ]
  },
  {
   "cell_type": "markdown",
   "metadata": {},
   "source": [
    "## Step 3: Make some Detection"
   ]
  },
  {
   "cell_type": "code",
   "execution_count": 6,
   "metadata": {},
   "outputs": [],
   "source": [
    "cap = cv2.VideoCapture(0)\n",
    "with mp_hands.Hands(min_detection_confidence=0.5,min_tracking_confidence=0.5) as hands:\n",
    "    while cap.isOpened():\n",
    "        success, image = cap.read()\n",
    "\n",
    "        # Flip the image horizontally for a later selfie-view display, and convert\n",
    "        # the BGR image to RGB.\n",
    "        image = cv2.cvtColor(image, cv2.COLOR_BGR2RGB)\n",
    "        # To improve performance, optionally mark the image as not writeable to\n",
    "        # pass by reference.\n",
    "        image.flags.writeable = False\n",
    "        results = hands.process(image)\n",
    "\n",
    "        # Draw the hand annotations on the image.\n",
    "        image.flags.writeable = True\n",
    "        image = cv2.cvtColor(image, cv2.COLOR_RGB2BGR)\n",
    "\n",
    "\n",
    "\n",
    "#         image_height, image_width, _ = image.shape\n",
    "\n",
    "        if results.multi_hand_landmarks:\n",
    "            for hand_landmarks in results.multi_hand_landmarks:\n",
    "                mp_drawing.draw_landmarks(\n",
    "                    image, hand_landmarks, mp_hands.HAND_CONNECTIONS)\n",
    "        cv2.imshow('MediaPipe Hands', image)\n",
    "        if cv2.waitKey(10) & 0xFF == ord('q'):\n",
    "            break\n",
    "cap.release()\n",
    "cv2.destroyAllWindows()"
   ]
  },
  {
   "cell_type": "markdown",
   "metadata": {},
   "source": [
    "## Step 4: Capture Landmarks & Export to CSV"
   ]
  },
  {
   "cell_type": "code",
   "execution_count": 3,
   "metadata": {},
   "outputs": [],
   "source": [
    "import csv\n",
    "import os\n",
    "import numpy as np"
   ]
  },
  {
   "cell_type": "code",
   "execution_count": 7,
   "metadata": {},
   "outputs": [
    {
     "data": {
      "text/plain": [
       "21"
      ]
     },
     "execution_count": 7,
     "metadata": {},
     "output_type": "execute_result"
    }
   ],
   "source": [
    "num_coords = len(hand_landmarks.landmark)\n",
    "num_coords"
   ]
  },
  {
   "cell_type": "code",
   "execution_count": 21,
   "metadata": {},
   "outputs": [],
   "source": [
    "landmarks = ['class']\n",
    "for val in range(1, num_coords+1):\n",
    "    landmarks += ['x{}'.format(val), 'y{}'.format(val), 'z{}'.format(val)]"
   ]
  },
  {
   "cell_type": "code",
   "execution_count": 22,
   "metadata": {},
   "outputs": [
    {
     "data": {
      "text/plain": [
       "['class',\n",
       " 'x1',\n",
       " 'y1',\n",
       " 'z1',\n",
       " 'x2',\n",
       " 'y2',\n",
       " 'z2',\n",
       " 'x3',\n",
       " 'y3',\n",
       " 'z3',\n",
       " 'x4',\n",
       " 'y4',\n",
       " 'z4',\n",
       " 'x5',\n",
       " 'y5',\n",
       " 'z5',\n",
       " 'x6',\n",
       " 'y6',\n",
       " 'z6',\n",
       " 'x7',\n",
       " 'y7',\n",
       " 'z7',\n",
       " 'x8',\n",
       " 'y8',\n",
       " 'z8',\n",
       " 'x9',\n",
       " 'y9',\n",
       " 'z9',\n",
       " 'x10',\n",
       " 'y10',\n",
       " 'z10',\n",
       " 'x11',\n",
       " 'y11',\n",
       " 'z11',\n",
       " 'x12',\n",
       " 'y12',\n",
       " 'z12',\n",
       " 'x13',\n",
       " 'y13',\n",
       " 'z13',\n",
       " 'x14',\n",
       " 'y14',\n",
       " 'z14',\n",
       " 'x15',\n",
       " 'y15',\n",
       " 'z15',\n",
       " 'x16',\n",
       " 'y16',\n",
       " 'z16',\n",
       " 'x17',\n",
       " 'y17',\n",
       " 'z17',\n",
       " 'x18',\n",
       " 'y18',\n",
       " 'z18',\n",
       " 'x19',\n",
       " 'y19',\n",
       " 'z19',\n",
       " 'x20',\n",
       " 'y20',\n",
       " 'z20',\n",
       " 'x21',\n",
       " 'y21',\n",
       " 'z21']"
      ]
     },
     "execution_count": 22,
     "metadata": {},
     "output_type": "execute_result"
    }
   ],
   "source": [
    "landmarks"
   ]
  },
  {
   "cell_type": "code",
   "execution_count": 23,
   "metadata": {},
   "outputs": [],
   "source": [
    "with open('coords.csv', mode='w', newline='') as f:\n",
    "    csv_writer = csv.writer(f, delimiter=',', quotechar='\"', quoting=csv.QUOTE_MINIMAL)\n",
    "    csv_writer.writerow(landmarks)"
   ]
  },
  {
   "cell_type": "code",
   "execution_count": 28,
   "metadata": {},
   "outputs": [],
   "source": [
    "class_name = \"Three\""
   ]
  },
  {
   "cell_type": "code",
   "execution_count": 29,
   "metadata": {},
   "outputs": [],
   "source": [
    "cap = cv2.VideoCapture(0)\n",
    "with mp_hands.Hands(min_detection_confidence=0.5,min_tracking_confidence=0.5) as hands:\n",
    "    while cap.isOpened():\n",
    "        success, image = cap.read()\n",
    "        \n",
    "\n",
    "        # Flip the image horizontally for a later selfie-view display, and convert\n",
    "        # the BGR image to RGB.\n",
    "        image = cv2.cvtColor(image, cv2.COLOR_BGR2RGB)\n",
    "        # To improve performance, optionally mark the image as not writeable to\n",
    "        # pass by reference.\n",
    "        image.flags.writeable = False\n",
    "        results = hands.process(image)\n",
    "\n",
    "        # Draw the hand annotations on the image.\n",
    "        image.flags.writeable = True\n",
    "        image = cv2.cvtColor(image, cv2.COLOR_RGB2BGR)\n",
    "\n",
    "\n",
    "\n",
    "        image_height, image_width, _ = image.shape\n",
    "\n",
    "        if results.multi_hand_landmarks:\n",
    "            for hand_landmarks in results.multi_hand_landmarks:\n",
    "                mp_drawing.draw_landmarks(\n",
    "                    image, hand_landmarks, mp_hands.HAND_CONNECTIONS)\n",
    "        \n",
    "        try:\n",
    "            hand = hand_landmarks.landmark\n",
    "            hand_row = list(np.array([[landmark.x, landmark.y, landmark.z] for landmark in hand]).flatten())\n",
    "            \n",
    "            row = hand_row\n",
    "            \n",
    "            # Append class name \n",
    "            row.insert(0, class_name)\n",
    "            \n",
    "            # Export to CSV\n",
    "            with open('coords.csv', mode='a', newline='') as f:\n",
    "                csv_writer = csv.writer(f, delimiter=',', quotechar='\"', quoting=csv.QUOTE_MINIMAL)\n",
    "                csv_writer.writerow(row) \n",
    "            \n",
    "        except:\n",
    "            pass\n",
    "            \n",
    "   \n",
    "        cv2.imshow('MediaPipe Hands 4', image)\n",
    "        if cv2.waitKey(10) & 0xFF == ord('q'):\n",
    "            break\n",
    "cap.release()\n",
    "cv2.destroyAllWindows()"
   ]
  },
  {
   "cell_type": "markdown",
   "metadata": {},
   "source": [
    "## Step 5: Read in Collected Data and Process"
   ]
  },
  {
   "cell_type": "code",
   "execution_count": 30,
   "metadata": {},
   "outputs": [],
   "source": [
    "import pandas as pd\n",
    "from sklearn.model_selection import train_test_split"
   ]
  },
  {
   "cell_type": "code",
   "execution_count": 31,
   "metadata": {},
   "outputs": [],
   "source": [
    "df = pd.read_csv('coords.csv')\n",
    "\n",
    "X = df.drop('class', axis=1) # features\n",
    "y = df['class'] # target value\n",
    "\n",
    "X_train, X_test, y_train, y_test = train_test_split(X, y, test_size=0.3, random_state=1234)"
   ]
  },
  {
   "cell_type": "markdown",
   "metadata": {},
   "source": [
    "## Step 6: Train Custom Model Using Scikit Learn"
   ]
  },
  {
   "cell_type": "code",
   "execution_count": 32,
   "metadata": {},
   "outputs": [],
   "source": [
    "\n",
    "from sklearn.pipeline import make_pipeline \n",
    "from sklearn.preprocessing import StandardScaler \n",
    "\n",
    "from sklearn.linear_model import LogisticRegression, RidgeClassifier\n",
    "from sklearn.ensemble import RandomForestClassifier, GradientBoostingClassifier"
   ]
  },
  {
   "cell_type": "code",
   "execution_count": 33,
   "metadata": {},
   "outputs": [],
   "source": [
    "\n",
    "pipelines = {\n",
    "    'lr':make_pipeline(StandardScaler(), LogisticRegression()),\n",
    "    'rc':make_pipeline(StandardScaler(), RidgeClassifier()),\n",
    "    'rf':make_pipeline(StandardScaler(), RandomForestClassifier()),\n",
    "    'gb':make_pipeline(StandardScaler(), GradientBoostingClassifier()),\n",
    "}"
   ]
  },
  {
   "cell_type": "markdown",
   "metadata": {},
   "source": [
    "## Step 7: Train Machine Learning Classification Model"
   ]
  },
  {
   "cell_type": "code",
   "execution_count": 34,
   "metadata": {},
   "outputs": [
    {
     "name": "stderr",
     "output_type": "stream",
     "text": [
      "c:\\users\\91992\\appdata\\local\\programs\\python\\python37\\lib\\site-packages\\sklearn\\linear_model\\_logistic.py:765: ConvergenceWarning: lbfgs failed to converge (status=1):\n",
      "STOP: TOTAL NO. of ITERATIONS REACHED LIMIT.\n",
      "\n",
      "Increase the number of iterations (max_iter) or scale the data as shown in:\n",
      "    https://scikit-learn.org/stable/modules/preprocessing.html\n",
      "Please also refer to the documentation for alternative solver options:\n",
      "    https://scikit-learn.org/stable/modules/linear_model.html#logistic-regression\n",
      "  extra_warning_msg=_LOGISTIC_SOLVER_CONVERGENCE_MSG)\n"
     ]
    }
   ],
   "source": [
    "fit_models = {}\n",
    "for algo, pipeline in pipelines.items():\n",
    "    model = pipeline.fit(X_train, y_train)\n",
    "    fit_models[algo] = model"
   ]
  },
  {
   "cell_type": "code",
   "execution_count": 35,
   "metadata": {},
   "outputs": [
    {
     "data": {
      "text/plain": [
       "array(['One', 'Two', 'Three', 'Three', 'Three', 'Three', 'Two', 'Three',\n",
       "       'One', 'Two', 'One', 'Three', 'Two', 'One', 'Two', 'Three',\n",
       "       'Three', 'Three', 'One', 'One', 'Three', 'Three', 'One', 'Three',\n",
       "       'Three', 'Three', 'Two', 'Three', 'Two', 'Two', 'Two', 'One',\n",
       "       'Two', 'One', 'One', 'Two', 'Three', 'Three', 'Three', 'One',\n",
       "       'One', 'Two', 'One', 'Two', 'One', 'Three', 'Two', 'Two', 'One',\n",
       "       'One', 'One', 'Three', 'Two', 'Three', 'Two', 'One', 'Three',\n",
       "       'Three', 'Three', 'Two', 'Two', 'Two', 'Two', 'Two', 'Three',\n",
       "       'Three', 'Three', 'Two', 'Three', 'Two', 'Two', 'One', 'One',\n",
       "       'Two', 'Three', 'Three', 'Three', 'Three', 'Two', 'Three', 'One',\n",
       "       'One', 'One', 'Two', 'Three', 'Three', 'Three', 'Three', 'Three',\n",
       "       'One', 'Two', 'Three', 'Three', 'One', 'Two', 'Three', 'Three',\n",
       "       'Two', 'Three', 'One', 'One', 'Two', 'One', 'One', 'Two', 'Three',\n",
       "       'Three', 'One', 'One', 'Three', 'One', 'One', 'One', 'Three',\n",
       "       'One', 'Three', 'One', 'Two', 'Three', 'Three', 'Three', 'Three',\n",
       "       'Three', 'One', 'One', 'Three', 'Two', 'Two', 'Three', 'One',\n",
       "       'Two', 'Three', 'Three', 'Two', 'Two', 'Two', 'Three', 'Three',\n",
       "       'Two', 'One', 'Three', 'Two', 'Two', 'One', 'Two', 'One', 'One',\n",
       "       'Two', 'Two', 'One'], dtype='<U5')"
      ]
     },
     "execution_count": 35,
     "metadata": {},
     "output_type": "execute_result"
    }
   ],
   "source": [
    "fit_models['rc'].predict(X_test)"
   ]
  },
  {
   "cell_type": "markdown",
   "metadata": {},
   "source": [
    "## Step 8: Evaluate and Serialize Model"
   ]
  },
  {
   "cell_type": "code",
   "execution_count": 36,
   "metadata": {},
   "outputs": [],
   "source": [
    "from sklearn.metrics import accuracy_score # Accuracy metrics \n",
    "import pickle"
   ]
  },
  {
   "cell_type": "code",
   "execution_count": 37,
   "metadata": {},
   "outputs": [
    {
     "name": "stdout",
     "output_type": "stream",
     "text": [
      "lr 0.94\n",
      "rc 0.9266666666666666\n",
      "rf 0.9466666666666667\n",
      "gb 0.9466666666666667\n"
     ]
    }
   ],
   "source": [
    "\n",
    "for algo, model in fit_models.items():\n",
    "    yhat = model.predict(X_test)\n",
    "    print(algo, accuracy_score(y_test, yhat))"
   ]
  },
  {
   "cell_type": "code",
   "execution_count": 38,
   "metadata": {},
   "outputs": [
    {
     "data": {
      "text/plain": [
       "array(['One', 'Two', 'Three', 'Three', 'Three', 'Three', 'One', 'Three',\n",
       "       'One', 'Two', 'One', 'Three', 'Two', 'One', 'Two', 'Three', 'One',\n",
       "       'Three', 'One', 'One', 'Three', 'One', 'One', 'Three', 'Three',\n",
       "       'Two', 'Two', 'Three', 'Two', 'Two', 'Three', 'One', 'Two', 'One',\n",
       "       'One', 'Two', 'Three', 'Three', 'Three', 'One', 'One', 'Two',\n",
       "       'One', 'Two', 'One', 'Three', 'Three', 'Two', 'One', 'One', 'One',\n",
       "       'Three', 'Two', 'Two', 'Two', 'One', 'Three', 'Three', 'Three',\n",
       "       'Two', 'Two', 'Two', 'Two', 'Two', 'Three', 'Three', 'Three',\n",
       "       'Two', 'Three', 'Two', 'Two', 'One', 'One', 'Two', 'Three',\n",
       "       'Three', 'Three', 'Three', 'Two', 'One', 'One', 'One', 'One',\n",
       "       'Two', 'Three', 'Three', 'Three', 'Three', 'Three', 'One', 'Two',\n",
       "       'Three', 'Three', 'One', 'Two', 'Three', 'One', 'Two', 'Three',\n",
       "       'One', 'One', 'Two', 'One', 'One', 'Two', 'Three', 'Three', 'One',\n",
       "       'One', 'Three', 'One', 'One', 'One', 'Three', 'One', 'Three',\n",
       "       'One', 'Two', 'Three', 'Three', 'Three', 'Three', 'Two', 'One',\n",
       "       'One', 'Three', 'Two', 'Two', 'Three', 'One', 'Two', 'Three',\n",
       "       'Three', 'One', 'Two', 'Two', 'Three', 'Three', 'Two', 'One',\n",
       "       'Three', 'Two', 'Two', 'One', 'Two', 'One', 'One', 'Two', 'Two',\n",
       "       'One'], dtype=object)"
      ]
     },
     "execution_count": 38,
     "metadata": {},
     "output_type": "execute_result"
    }
   ],
   "source": [
    "fit_models['rf'].predict(X_test)"
   ]
  },
  {
   "cell_type": "code",
   "execution_count": 39,
   "metadata": {},
   "outputs": [],
   "source": [
    "\n",
    "with open('Numbers.pkl', 'wb') as f:\n",
    "    pickle.dump(fit_models['rf'], f)"
   ]
  },
  {
   "cell_type": "markdown",
   "metadata": {},
   "source": [
    "## Step 9: Make Detections with Model"
   ]
  },
  {
   "cell_type": "code",
   "execution_count": 40,
   "metadata": {},
   "outputs": [],
   "source": [
    "with open('Numbers.pkl', 'rb') as f:\n",
    "    model = pickle.load(f)"
   ]
  },
  {
   "cell_type": "code",
   "execution_count": 42,
   "metadata": {},
   "outputs": [
    {
     "name": "stdout",
     "output_type": "stream",
     "text": [
      "Two [0.08 0.11 0.81]\n",
      "Two [0.08 0.11 0.81]\n",
      "Two [0.08 0.11 0.81]\n",
      "Two [0.08 0.11 0.81]\n",
      "Two [0.08 0.11 0.81]\n",
      "Two [0.08 0.11 0.81]\n",
      "Two [0.08 0.11 0.81]\n",
      "Two [0.08 0.11 0.81]\n",
      "Two [0.08 0.11 0.81]\n",
      "Two [0.08 0.11 0.81]\n",
      "Two [0.08 0.11 0.81]\n",
      "Two [0.08 0.11 0.81]\n",
      "Three [0.   0.83 0.17]\n",
      "Three [0.   0.93 0.07]\n",
      "Three [0.01 0.92 0.07]\n",
      "Three [0.   0.99 0.01]\n",
      "Three [0.   0.98 0.02]\n",
      "Three [0.   0.97 0.03]\n",
      "Three [0. 1. 0.]\n",
      "Three [0. 1. 0.]\n",
      "Three [0. 1. 0.]\n",
      "Three [0.   0.94 0.06]\n",
      "Two [0.08115385 0.15       0.76884615]\n",
      "Two [0.17698718 0.05       0.77301282]\n",
      "Two [0.11379779 0.04       0.84620221]\n",
      "Two [0.10532051 0.04       0.85467949]\n",
      "Two [0.0955348 0.05      0.8544652]\n",
      "Two [0.0955348 0.04      0.8644652]\n",
      "Two [0.11732051 0.04       0.84267949]\n",
      "Two [0.11732051 0.04       0.84267949]\n",
      "Two [0.1255348 0.05      0.8244652]\n",
      "Two [0.09732051 0.05       0.85267949]\n",
      "One [0.51464821 0.01       0.47535179]\n",
      "Two [0.40417997 0.01       0.58582003]\n",
      "Two [0.39292354 0.01       0.59707646]\n",
      "Two [0.39318743 0.01       0.59681257]\n",
      "Two [0.38370901 0.         0.61629099]\n",
      "Two [0.38641721 0.         0.61358279]\n",
      "Two [0.39328795 0.         0.60671205]\n",
      "Two [0.38641721 0.         0.61358279]\n",
      "Two [0.40287875 0.         0.59712125]\n",
      "Two [0.40284213 0.         0.59715787]\n",
      "Two [0.4061451 0.        0.5938549]\n",
      "Two [0.45943276 0.01       0.53056724]\n",
      "Two [0.43605557 0.01       0.55394443]\n",
      "Two [0.43115361 0.01       0.55884639]\n",
      "One [0.54997013 0.01       0.44002987]\n",
      "One [0.61217258 0.05       0.33782742]\n",
      "Two [0.47940461 0.02       0.50059539]\n",
      "Two [0.29928115 0.04       0.66071885]\n",
      "Two [0.39071829 0.03       0.57928171]\n",
      "Two [0.41492881 0.04       0.54507119]\n",
      "Two [0.41885189 0.03       0.55114811]\n",
      "Two [0.45492881 0.04       0.50507119]\n",
      "Two [0.45685189 0.04       0.50314811]\n",
      "One [0.49492881 0.04       0.46507119]\n",
      "Two [0.46075665 0.04       0.49924335]\n",
      "One [0.47885189 0.06       0.46114811]\n",
      "Two [0.45655479 0.06       0.48344521]\n",
      "Two [0.4436552 0.07      0.4863448]\n",
      "One [0.51195586 0.07       0.41804414]\n",
      "One [0.49960291 0.07       0.43039709]\n",
      "One [0.48019115 0.07       0.44980885]\n",
      "One [0.55396655 0.06       0.38603345]\n",
      "One [0.59233019 0.05       0.35766981]\n",
      "One [0.56327552 0.06       0.37672448]\n",
      "One [0.61208333 0.04       0.34791667]\n",
      "One [0.59363636 0.07       0.33636364]\n",
      "One [0.65363636 0.06       0.28636364]\n",
      "One [0.68 0.04 0.28]\n",
      "One [0.72363636 0.02       0.25636364]\n",
      "One [0.75363636 0.01       0.23636364]\n",
      "One [0.75363636 0.01       0.23636364]\n",
      "One [0.75363636 0.01       0.23636364]\n",
      "One [0.75363636 0.01       0.23636364]\n",
      "One [0.75363636 0.01       0.23636364]\n",
      "One [0.75363636 0.01       0.23636364]\n",
      "One [0.75363636 0.01       0.23636364]\n",
      "One [0.75363636 0.01       0.23636364]\n",
      "One [0.75363636 0.01       0.23636364]\n",
      "One [0.75363636 0.01       0.23636364]\n",
      "One [0.75363636 0.01       0.23636364]\n",
      "One [0.75363636 0.01       0.23636364]\n",
      "One [0.75363636 0.01       0.23636364]\n",
      "One [0.75363636 0.01       0.23636364]\n",
      "One [0.75363636 0.01       0.23636364]\n",
      "One [0.75363636 0.01       0.23636364]\n",
      "One [0.75363636 0.01       0.23636364]\n",
      "One [0.75363636 0.01       0.23636364]\n",
      "One [0.75363636 0.01       0.23636364]\n",
      "One [0.75363636 0.01       0.23636364]\n",
      "One [0.75363636 0.01       0.23636364]\n",
      "One [0.75363636 0.01       0.23636364]\n",
      "One [0.75363636 0.01       0.23636364]\n",
      "One [0.75363636 0.01       0.23636364]\n",
      "One [0.75363636 0.01       0.23636364]\n",
      "One [0.75363636 0.01       0.23636364]\n",
      "One [0.75363636 0.01       0.23636364]\n",
      "One [0.75363636 0.01       0.23636364]\n",
      "One [0.75363636 0.01       0.23636364]\n",
      "One [0.75363636 0.01       0.23636364]\n",
      "One [0.75363636 0.01       0.23636364]\n",
      "One [0.75363636 0.01       0.23636364]\n",
      "One [0.75363636 0.01       0.23636364]\n",
      "One [0.75363636 0.01       0.23636364]\n",
      "One [0.75363636 0.01       0.23636364]\n",
      "One [0.75363636 0.01       0.23636364]\n",
      "One [0.75363636 0.01       0.23636364]\n",
      "One [0.75363636 0.01       0.23636364]\n",
      "One [0.75363636 0.01       0.23636364]\n",
      "One [0.75363636 0.01       0.23636364]\n",
      "One [0.75363636 0.01       0.23636364]\n",
      "One [0.75363636 0.01       0.23636364]\n",
      "One [0.75363636 0.01       0.23636364]\n",
      "One [0.75363636 0.01       0.23636364]\n",
      "One [0.75363636 0.01       0.23636364]\n",
      "One [0.75363636 0.01       0.23636364]\n",
      "One [0.75363636 0.01       0.23636364]\n",
      "One [0.75363636 0.01       0.23636364]\n",
      "One [0.75363636 0.01       0.23636364]\n",
      "One [0.75363636 0.01       0.23636364]\n",
      "One [0.75363636 0.01       0.23636364]\n",
      "One [0.75363636 0.01       0.23636364]\n",
      "One [0.75363636 0.01       0.23636364]\n",
      "Two [0.247 0.11  0.643]\n",
      "Two [0.27544697 0.1        0.62455303]\n",
      "Two [0.41214286 0.08       0.50785714]\n",
      "Two [0.33647151 0.09       0.57352849]\n",
      "Two [0.29417705 0.1        0.60582295]\n",
      "Two [0.30610893 0.08       0.61389107]\n",
      "Two [0.36928295 0.04       0.59071705]\n",
      "Two [0.24449776 0.04       0.71550224]\n",
      "Two [0.16415584 0.07       0.76584416]\n",
      "Two [0.13142857 0.1        0.76857143]\n",
      "Two [0.12415584 0.1        0.77584416]\n",
      "Two [0.1365368 0.08      0.7834632]\n",
      "Two [0.11415584 0.08       0.80584416]\n",
      "Two [0.1265368 0.09      0.7834632]\n",
      "Two [0.1215954 0.1       0.7784046]\n",
      "Two [0.11496337 0.03       0.85503663]\n",
      "Two [0.28229809 0.02       0.69770191]\n",
      "Two [0.30118591 0.03       0.66881409]\n",
      "Two [0.28234176 0.02       0.69765824]\n",
      "Two [0.26879197 0.03       0.70120803]\n",
      "Two [0.26688721 0.04       0.69311279]\n",
      "Two [0.32400842 0.03       0.64599158]\n",
      "Two [0.31400842 0.03       0.65599158]\n",
      "Two [0.27961449 0.03       0.69038551]\n",
      "Two [0.3139315 0.03      0.6560685]\n",
      "Two [0.31708428 0.02       0.66291572]\n",
      "Two [0.43145506 0.04       0.52854494]\n",
      "Two [0.43674054 0.04       0.52325946]\n",
      "One [0.58691409 0.04       0.37308591]\n",
      "One [0.6152987 0.04      0.3447013]\n",
      "One [0.64722178 0.03       0.32277822]\n",
      "One [0.6147575 0.03      0.3552425]\n",
      "One [0.66202111 0.03       0.30797889]\n",
      "One [0.68027294 0.03       0.28972706]\n",
      "One [0.67202111 0.03       0.29797889]\n",
      "One [0.6741777 0.03      0.2958223]\n",
      "One [0.66360006 0.03       0.30639994]\n",
      "One [0.65971342 0.03       0.31028658]\n",
      "One [0.6664854 0.03      0.3035146]\n",
      "Two [0.48455022 0.03       0.48544978]\n",
      "One [0.66690595 0.03       0.30309405]\n",
      "One [0.71545883 0.03       0.25454117]\n",
      "One [0.65247199 0.01       0.33752801]\n",
      "One [0.67621429 0.         0.32378571]\n",
      "One [0.65099206 0.         0.34900794]\n",
      "One [0.575345 0.       0.424655]\n",
      "One [0.51281994 0.         0.48718006]\n",
      "One [0.52198661 0.         0.47801339]\n",
      "Two [0.49198661 0.         0.50801339]\n",
      "One [0.52724977 0.         0.47275023]\n",
      "Two [0.49724977 0.         0.50275023]\n",
      "One [0.51724977 0.         0.48275023]\n",
      "One [0.5080831 0.        0.4919169]\n",
      "One [0.50198661 0.         0.49801339]\n",
      "One [0.5180831 0.        0.4819169]\n",
      "One [0.53840361 0.         0.46159639]\n",
      "One [0.51724977 0.         0.48275023]\n",
      "Two [0.02115385 0.24       0.73884615]\n",
      "Two [0.01115385 0.26       0.72884615]\n",
      "Two [0.01115385 0.25       0.73884615]\n",
      "Two [0.01115385 0.24       0.74884615]\n",
      "Two [0.01115385 0.24       0.74884615]\n",
      "Two [0.01115385 0.24       0.74884615]\n",
      "Two [0.03115385 0.27       0.69884615]\n",
      "Two [0.01115385 0.24       0.74884615]\n",
      "Two [0.02115385 0.27       0.70884615]\n",
      "Two [0.02115385 0.26       0.71884615]\n",
      "Two [0.03115385 0.32       0.64884615]\n",
      "Two [0.04115385 0.31       0.64884615]\n",
      "Two [0.03115385 0.31       0.65884615]\n",
      "Two [0.02115385 0.28       0.69884615]\n",
      "Two [0.03115385 0.27       0.69884615]\n",
      "Two [0.02115385 0.28       0.69884615]\n",
      "Two [0.04115385 0.26       0.69884615]\n",
      "Two [0.01115385 0.26       0.72884615]\n",
      "Two [0.02115385 0.3        0.67884615]\n",
      "Two [0.04115385 0.25       0.70884615]\n",
      "Two [0.01115385 0.26       0.72884615]\n",
      "Two [0.02115385 0.3        0.67884615]\n",
      "Two [0.05115385 0.37       0.57884615]\n",
      "Two [0.03395385 0.32       0.64604615]\n",
      "Two [0.03115385 0.34       0.62884615]\n",
      "Two [0.02395385 0.32       0.65604615]\n",
      "Two [0.02395385 0.29       0.68604615]\n",
      "Two [0.02115385 0.28       0.69884615]\n",
      "Two [0.02395385 0.3        0.67604615]\n",
      "Two [0.03395385 0.3        0.66604615]\n",
      "Two [0.03395385 0.32       0.64604615]\n",
      "Two [0.05395385 0.32       0.62604615]\n",
      "Two [0.03395385 0.33       0.63604615]\n",
      "Two [0.02395385 0.28       0.69604615]\n",
      "Two [0.03395385 0.32       0.64604615]\n",
      "Two [0.05395385 0.36       0.58604615]\n",
      "Two [0.03395385 0.34       0.62604615]\n",
      "Two [0.02395385 0.33       0.64604615]\n",
      "Two [0.04395385 0.33       0.62604615]\n",
      "Two [0.05115385 0.36       0.58884615]\n",
      "Two [0.04 0.38 0.58]\n",
      "Three [0.07 0.66 0.27]\n",
      "Two [0.04115385 0.42       0.53884615]\n",
      "Three [0.01 0.85 0.14]\n"
     ]
    },
    {
     "name": "stdout",
     "output_type": "stream",
     "text": [
      "Three [0.05 0.56 0.39]\n",
      "Two [0.0535348 0.41      0.5364652]\n",
      "Three [0.02 0.87 0.11]\n",
      "Three [0.02 0.91 0.07]\n",
      "Three [0.02 0.75 0.23]\n",
      "Three [0.05 0.7  0.25]\n",
      "Two [0.0435348 0.37      0.5864652]\n",
      "Three [0.06115385 0.52       0.41884615]\n",
      "Two [0.03115385 0.38       0.58884615]\n",
      "Three [0.05115385 0.53       0.41884615]\n",
      "Two [0.0535348 0.36      0.5864652]\n",
      "Two [0.04115385 0.45       0.50884615]\n",
      "Two [0.0535348 0.39      0.5564652]\n",
      "Two [0.04115385 0.39       0.56884615]\n",
      "Two [0.05115385 0.41       0.53884615]\n",
      "Three [0.07346154 0.65       0.27653846]\n",
      "Two [0.11821211 0.04       0.84178789]\n",
      "Three [0.03115385 0.67       0.29884615]\n",
      "Three [0.04 0.7  0.26]\n",
      "Three [0.02 0.69 0.29]\n",
      "Three [0.03 0.66 0.31]\n",
      "Three [0.01 0.77 0.22]\n",
      "Three [0.04238095 0.58       0.37761905]\n",
      "Three [0.04 0.67 0.29]\n",
      "Three [0.06 0.62 0.32]\n",
      "Three [0.02 0.67 0.31]\n",
      "Three [0.02 0.56 0.42]\n",
      "Three [0.05238095 0.55       0.39761905]\n",
      "Three [0.05 0.6  0.35]\n",
      "Three [0.03 0.54 0.43]\n",
      "Three [0.03 0.54 0.43]\n",
      "Three [0.03 0.54 0.43]\n",
      "Three [0.03 0.54 0.43]\n",
      "Three [0.03 0.54 0.43]\n",
      "Three [0.03 0.54 0.43]\n",
      "Three [0.03 0.54 0.43]\n",
      "Three [0.03 0.54 0.43]\n",
      "Three [0.03 0.54 0.43]\n",
      "Three [0.03 0.54 0.43]\n",
      "Three [0.03 0.54 0.43]\n",
      "Three [0.03 0.54 0.43]\n",
      "Three [0.03 0.54 0.43]\n",
      "Three [0.03 0.54 0.43]\n",
      "Three [0.03 0.54 0.43]\n",
      "Three [0.03 0.54 0.43]\n",
      "Three [0.03 0.54 0.43]\n",
      "Three [0.03 0.54 0.43]\n",
      "Three [0.   0.86 0.14]\n",
      "Three [0.   0.84 0.16]\n",
      "Three [0.01 0.78 0.21]\n",
      "Three [0.06 0.75 0.19]\n",
      "Three [0.18 0.62 0.2 ]\n",
      "Three [0.18363636 0.62       0.19636364]\n",
      "Three [0.09363636 0.7        0.20636364]\n",
      "Three [0.10363636 0.7        0.19636364]\n",
      "Three [0.10363636 0.7        0.19636364]\n",
      "Three [0.10363636 0.7        0.19636364]\n",
      "Three [0.10363636 0.7        0.19636364]\n",
      "Three [0.10363636 0.7        0.19636364]\n",
      "Three [0.10363636 0.7        0.19636364]\n",
      "Three [0.10363636 0.7        0.19636364]\n",
      "Three [0.10363636 0.7        0.19636364]\n"
     ]
    }
   ],
   "source": [
    "cap = cv2.VideoCapture(0)\n",
    "with mp_hands.Hands(min_detection_confidence=0.5,min_tracking_confidence=0.5) as hands:\n",
    "    while cap.isOpened():\n",
    "        success, image = cap.read()\n",
    "       \n",
    "        # Flip the image horizontally for a later selfie-view display, and convert\n",
    "        # the BGR image to RGB.\n",
    "        image = cv2.cvtColor(image, cv2.COLOR_BGR2RGB)\n",
    "        # To improve performance, optionally mark the image as not writeable to\n",
    "        # pass by reference.\n",
    "        image.flags.writeable = False\n",
    "        results = hands.process(image)\n",
    "\n",
    "        # Draw the hand annotations on the image.\n",
    "        image.flags.writeable = True\n",
    "        image = cv2.cvtColor(image, cv2.COLOR_RGB2BGR)\n",
    "\n",
    "\n",
    "\n",
    "#         image_height, image_width, _ = image.shape\n",
    "\n",
    "        if results.multi_hand_landmarks:\n",
    "            for hand_landmarks in results.multi_hand_landmarks:\n",
    "                mp_drawing.draw_landmarks(\n",
    "                    image, hand_landmarks, mp_hands.HAND_CONNECTIONS)\n",
    "        try:\n",
    "            hand = hand_landmarks.landmark\n",
    "            hand_row = list(np.array([[landmark.x, landmark.y, landmark.z] for landmark in hand]).flatten())\n",
    "\n",
    "            row = hand_row\n",
    "#             print(row)\n",
    "\n",
    "\n",
    "            X = pd.DataFrame([row])\n",
    "            hand_language_class = model.predict(X)[0]\n",
    "            hand_language_prob = model.predict_proba(X)[0]\n",
    "            print(hand_language_class, hand_language_prob)\n",
    "\n",
    "\n",
    "\n",
    "            coords = tuple(np.multiply(\n",
    "                            np.array(\n",
    "                                (hand_landmarks.landmark[mp_hands.HandLandmark.WRIST].x, \n",
    "                                 hand_landmarks.landmark[mp_hands.HandLandmark.WRIST].y))\n",
    "                        , [640,480]).astype(int))\n",
    "\n",
    "            cv2.rectangle(image, \n",
    "                          (coords[0], coords[1]+5), \n",
    "                          (coords[0]+len(hand_language_class)*20, coords[1]-30), \n",
    "                          (245, 117, 16), -1)\n",
    "            cv2.putText(image, hand_language_class, coords, \n",
    "                        cv2.FONT_HERSHEY_SIMPLEX, 1, (255, 255, 255), 2, cv2.LINE_AA)\n",
    "\n",
    "            # Get status box\n",
    "            cv2.rectangle(image, (0,0), (250, 60), (245, 117, 16), -1)\n",
    "\n",
    "            # Display Class\n",
    "            cv2.putText(image, 'CLASS'\n",
    "                        , (95,12), cv2.FONT_HERSHEY_SIMPLEX, 0.5, (0, 0, 0), 1, cv2.LINE_AA)\n",
    "            cv2.putText(image, hand_language_class.split(' ')[0]\n",
    "                        , (90,40), cv2.FONT_HERSHEY_SIMPLEX, 1, (255, 255, 255), 2, cv2.LINE_AA)\n",
    "\n",
    "            # Display Probability\n",
    "            cv2.putText(image, 'PROB'\n",
    "                        , (15,12), cv2.FONT_HERSHEY_SIMPLEX, 0.5, (0, 0, 0), 1, cv2.LINE_AA)\n",
    "            cv2.putText(image, str(round(hand_language_prob[np.argmax(hand_language_prob)],2))\n",
    "                        , (10,40), cv2.FONT_HERSHEY_SIMPLEX, 1, (255, 255, 255), 2, cv2.LINE_AA)\n",
    "\n",
    "        except:\n",
    "            pass\n",
    "            \n",
    "   \n",
    "        cv2.imshow('MediaPipe Hands 2', image)\n",
    "        if cv2.waitKey(10) & 0xFF == ord('q'):\n",
    "            break\n",
    "cap.release()\n",
    "cv2.destroyAllWindows()"
   ]
  },
  {
   "cell_type": "code",
   "execution_count": null,
   "metadata": {},
   "outputs": [],
   "source": []
  },
  {
   "cell_type": "code",
   "execution_count": null,
   "metadata": {},
   "outputs": [],
   "source": []
  }
 ],
 "metadata": {
  "kernelspec": {
   "display_name": "Python 3",
   "language": "python",
   "name": "python3"
  },
  "language_info": {
   "codemirror_mode": {
    "name": "ipython",
    "version": 3
   },
   "file_extension": ".py",
   "mimetype": "text/x-python",
   "name": "python",
   "nbconvert_exporter": "python",
   "pygments_lexer": "ipython3",
   "version": "3.7.6"
  }
 },
 "nbformat": 4,
 "nbformat_minor": 2
}
